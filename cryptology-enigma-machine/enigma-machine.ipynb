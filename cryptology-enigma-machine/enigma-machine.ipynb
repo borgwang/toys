{
 "cells": [
  {
   "cell_type": "markdown",
   "metadata": {},
   "source": [
    "### Enigma Machine\n",
    "\n",
    "恩尼格玛密码机是一种用于加密/解密的密码机，在二战时期纳粹德国广泛使用。\n",
    "\n",
    "恩尼格玛密码机结合了计息系统和电子系统，核心原理是通过不同的转子组合、转子初始状态、接线板连接等，构成不同的按键映射电路，同时转子本身按照一定的按键周期转动（进一步打乱电路，重复输>入同一个字母会输出不一样的加密结果）\n",
    "\n",
    "解密的时候对方只将密码机的初始状态设置到与加密方一样，然后输入加密的信息，就会产出解密后的信息。因为是通过电路回路来实现字母的映射，假如输入 A 加密得到 B，那么在相同的密码机状态下输\n",
    "入 B 加密能够得到 A。\n",
    "\n",
    "只要通讯双方约定好相同的配置（包括转子选择、转子初始状态、接线板连接方式等），即可以实现信息的加解密。\n",
    "\n",
    "#### 恩尼格码密码机破译\n",
    "\n",
    "恩尼格码密码机的一个特点是一个字母加密之后的密文一定不会是这个字母本身（否则无法构成回路），因此当时破译者先是猜测可能出现在密文中的一个词语 (Heil Hitler)，然后将这个词语放到密文中 >，滑动进行匹配，如果发现有字母完全不相同的，那么这个密文就可能是这个词语的加密。然后根据这组明文密文对，逐一尝试各种配置方式。\n",
    "\n",
    "#### links\n",
    "- https://zh.wikipedia.org/wiki/%E6%81%A9%E5%B0%BC%E6%A0%BC%E7%8E%9B%E5%AF%86%E7%A0%81%E6%9C%BA\n",
    "- https://www.matematiksider.dk/enigma/enigma_circuit_big.png\n",
    "- https://web.stanford.edu/class/cs106j/handouts/36-TheEnigmaMachine.pdf\n",
    "- https://www.cryptomuseum.com/crypto/enigma/wiring.htm#12\n",
    "- https://www.cryptool.org/en/cto/enigma-step-by-step\n",
    "- https://cryptii.com/pipes/enigma-machine\n",
    "- https://www.youtube.com/watch?v=ybkkiGtJmkM&t=794s"
   ]
  },
  {
   "cell_type": "code",
   "execution_count": 1,
   "metadata": {},
   "outputs": [],
   "source": [
    "import random\n",
    "from string import ascii_lowercase\n",
    "from collections import Counter\n",
    "\n",
    "import numpy as np\n",
    "import matplotlib.pyplot as plt"
   ]
  },
  {
   "cell_type": "code",
   "execution_count": 2,
   "metadata": {},
   "outputs": [],
   "source": [
    "settings = {\n",
    "    \"rotors\": [\"I\", \"II\", \"III\"],\n",
    "    \"init_pos\": [0, 0, 0],\n",
    "    \"plugboard\": [\"bq\", \"cr\", \"di\", \"ej\", \"kw\", \"mt\", \"os\", \"px\", \"uz\", \"gh\"],\n",
    "    \"reflector\": \"UKW-B\"\n",
    "}\n",
    "\n",
    "wiring_map = {\n",
    "    \"I\": \"ekmflgdqvzntowyhxuspaibrcj\",\n",
    "    \"II\": \"ajdksiruxblhwtmcqgznpyfvoe\",\n",
    "    \"III\": \"bdfhjlcprtxvznyeiwgakmusqo\",\n",
    "    \"IV\": \"esovpzjayquirhxlnftgkdcmwb\",\n",
    "    \"V\": \"vzbrgityupsdnhlxawmjqofeck\",\n",
    "    \"UKW-B\": \"yruhqsldpxngokmiebfzcwvjat\",\n",
    "    \"UKW-C\": \"fvpjiaoyedrzxwgctkuqsbnmhl\",\n",
    "}\n",
    "\n",
    "notch_map = {\n",
    "    \"I\": \"y\",\n",
    "    \"II\": \"m\",\n",
    "    \"III\": \"d\",\n",
    "    \"IV\": \"r\",\n",
    "    \"V\": \"h\",\n",
    "}\n",
    "\n",
    "class EnigmaMachine:\n",
    "    \n",
    "    def __init__(self, settings):\n",
    "        # init plugboard\n",
    "        self.plugboard = self.reset_plugboard(settings)\n",
    "        # init rotors\n",
    "        self.rotors = self.reset_rotors(settings)\n",
    "        # init contacts\n",
    "        self.contacts = self.reset_contacts(settings)\n",
    "        # init reflector\n",
    "        self.reflector = self.reset_reflector(settings)\n",
    "            \n",
    "    def encode(self, message):\n",
    "        ret = []\n",
    "        for letter in message:\n",
    "            letter = self.plugboard.get(letter, letter)\n",
    "            \n",
    "            for i in range(len(self.rotors)):\n",
    "                self.rotors[i].global_stroke += 1\n",
    "                if self.rotors[i].global_stroke % self.rotors[i].rotate_cycle == 0:\n",
    "                    self.contacts[i].turnover()\n",
    "                    \n",
    "            for i in range(len(self.rotors)):\n",
    "                letter = self.rotors[i].forward(letter)\n",
    "                letter = self.contacts[i].forward(letter)\n",
    "                \n",
    "            letter = self.reflector[letter]\n",
    "            for i in range(len(self.rotors) - 1, -1, -1):\n",
    "                letter = self.contacts[i].backward(letter)\n",
    "                letter = self.rotors[i].backward(letter)\n",
    "                \n",
    "            letter = self.plugboard.get(letter, letter)\n",
    "            ret.append(letter)\n",
    "        return \"\".join(ret)\n",
    "            \n",
    "    def reset_rotors(self, settings):\n",
    "        rotors = [Rotor(w) for w in settings[\"rotors\"]]\n",
    "        for i, pos in enumerate(settings[\"init_pos\"]):\n",
    "            rotor = rotors[i]\n",
    "            rotor.rotate_cycle = 26 ** i\n",
    "            rotor.curr_pos = pos\n",
    "            rotor.global_stroke = 0\n",
    "        return rotors\n",
    "    \n",
    "    def reset_reflector(self, settings):\n",
    "        assert settings[\"reflector\"] in wiring_map\n",
    "        from_ = list(ascii_lowercase)\n",
    "        to_ = list(wiring_map[settings[\"reflector\"]])\n",
    "        return dict(zip(from_, to_))\n",
    "    \n",
    "    def reset_contacts(self, settings):\n",
    "        contacts = []\n",
    "        for i in range(len(self.rotors)):\n",
    "            contacts.append(Contact())\n",
    "        return contacts\n",
    "    \n",
    "    def reset_plugboard(self, settings):\n",
    "        plugboard = {}\n",
    "        for pair in settings[\"plugboard\"]:\n",
    "            plugboard[pair[0]] = pair[1]\n",
    "            plugboard[pair[1]] = pair[0]\n",
    "        return plugboard\n",
    "    \n",
    "    \n",
    "class Contact:\n",
    "    \n",
    "    def __init__(self):\n",
    "        self.from_ = list(ascii_lowercase)\n",
    "        self.to_ = list(ascii_lowercase)\n",
    "    \n",
    "    def turnover(self):\n",
    "        self.from_ = self.from_[1:] + self.from_[0:1]\n",
    "    \n",
    "    def forward(self, letter):\n",
    "        return self.to_[self.from_.index(letter)]\n",
    "    \n",
    "    def backward(self, letter):\n",
    "        return self.from_[self.to_.index(letter)]\n",
    "    \n",
    "    \n",
    "class Rotor:\n",
    "    def __init__(self, wiring):\n",
    "        assert wiring in wiring_map\n",
    "        from_ = list(ascii_lowercase)\n",
    "        to_ = list(wiring_map[wiring])\n",
    "        self.forward_mapping = {k: v for k, v in zip(from_, to_)}\n",
    "        self.backward_mapping = {v: k for k, v in zip(from_, to_)}\n",
    "        \n",
    "        self.rotate_cycle = None\n",
    "        self.global_stroke = None\n",
    "    \n",
    "    def forward(self, letter):\n",
    "        letter = self.forward_mapping[letter]\n",
    "        return letter\n",
    "    \n",
    "    def backward(self, letter):\n",
    "        letter = self.backward_mapping[letter]\n",
    "        return letter"
   ]
  },
  {
   "cell_type": "code",
   "execution_count": 3,
   "metadata": {},
   "outputs": [],
   "source": [
    "def plot_distribution(letters):\n",
    "    counter = Counter(letters)\n",
    "    x = np.arange(26)\n",
    "    y = [counter.get(l, 0) for l in ascii_lowercase]\n",
    "    plt.figure(figsize=(10, 6))\n",
    "    plt.bar(x, y)\n",
    "    plt.xticks(x, list(ascii_lowercase))\n",
    "    plt.grid()\n",
    "    plt.show()"
   ]
  },
  {
   "cell_type": "code",
   "execution_count": 4,
   "metadata": {},
   "outputs": [],
   "source": [
    "with open(\"./shakespeare.txt\", \"r\") as f:\n",
    "    chars = \"\".join([l for l in f.readlines()]).lower()\n",
    "    shakespeare = \"\".join([c for c in chars if c in ascii_lowercase])"
   ]
  },
  {
   "cell_type": "code",
   "execution_count": 6,
   "metadata": {},
   "outputs": [
    {
     "data": {
      "image/png": "[encoded data removed]",
      "text/plain": [
       "<Figure size 720x432 with 1 Axes>"
      ]
     },
     "metadata": {
      "needs_background": "light"
     },
     "output_type": "display_data"
    }
   ],
   "source": [
    "plot_distribution(shakespeare)"
   ]
  },
  {
   "cell_type": "code",
   "execution_count": 7,
   "metadata": {},
   "outputs": [],
   "source": [
    "enigma = EnigmaMachine(settings)\n",
    "encrypted = enigma.encode(shakespeare)"
   ]
  },
  {
   "cell_type": "code",
   "execution_count": 8,
   "metadata": {},
   "outputs": [
    {
     "data": {
      "image/png": "[encoded data removed]",
      "text/plain": [
       "<Figure size 720x432 with 1 Axes>"
      ]
     },
     "metadata": {
      "needs_background": "light"
     },
     "output_type": "display_data"
    }
   ],
   "source": [
    "plot_distribution(encrypted)"
   ]
  },
  {
   "cell_type": "code",
   "execution_count": 9,
   "metadata": {},
   "outputs": [],
   "source": [
    "enigma = EnigmaMachine(settings)\n",
    "decrypted = enigma.encode(encrypted)"
   ]
  },
  {
   "cell_type": "code",
   "execution_count": 10,
   "metadata": {},
   "outputs": [],
   "source": [
    "assert decrypted == shakespeare"
   ]
  }
 ],
 "metadata": {
  "kernelspec": {
   "display_name": "Python 3 (ipykernel)",
   "language": "python",
   "name": "python3"
  },
  "language_info": {
   "codemirror_mode": {
    "name": "ipython",
    "version": 3
   },
   "file_extension": ".py",
   "mimetype": "text/x-python",
   "name": "python",
   "nbconvert_exporter": "python",
   "pygments_lexer": "ipython3",
   "version": "3.11.0"
  }
 },
 "nbformat": 4,
 "nbformat_minor": 4
}
