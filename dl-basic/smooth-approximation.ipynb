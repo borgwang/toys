{
 "cells": [
  {
   "cell_type": "code",
   "execution_count": 1,
   "id": "c1a7eb46-b43b-47c6-b087-9dffbbd6622a",
   "metadata": {
    "tags": []
   },
   "outputs": [],
   "source": [
    "import numpy as np"
   ]
  },
  {
   "cell_type": "markdown",
   "id": "6f6d922f-f0db-493e-82ea-f09b545ecc63",
   "metadata": {},
   "source": [
    "#### Maximum (LogSumExp)\n",
    "\n",
    "- https://en.wikipedia.org/wiki/Smooth_maximum\n",
    "- https://en.wikipedia.org/wiki/LogSumExp"
   ]
  },
  {
   "cell_type": "code",
   "execution_count": 22,
   "id": "1c88a10b-6ac5-488b-8708-f9aa52cc63f6",
   "metadata": {
    "tags": []
   },
   "outputs": [
    {
     "name": "stdout",
     "output_type": "stream",
     "text": [
      "ground truth: 9\n",
      "LogSumExp (k=1): 9.075633077398951\n",
      "LogSumExp (k=2): 9.00143130092675\n",
      "LogSumExp (k=4): 9.000001564706889\n",
      "LogSumExp (k=8): 9.00000000000472\n"
     ]
    }
   ],
   "source": [
    "x = np.array([3, 1, 4, 5, 9, 2, 6])\n",
    "\n",
    "def maximum_approx(x, k):\n",
    "  return np.log(np.sum(np.exp(x*k))) / k\n",
    "\n",
    "def maximum(x):\n",
    "  return np.max(x)\n",
    "\n",
    "print(f\"ground truth: {maximum(x)}\")\n",
    "for k in [1, 2, 4, 8]:\n",
    "  print(f\"LogSumExp (k={k}): {maximum_approx(x, k=k)}\")"
   ]
  },
  {
   "cell_type": "markdown",
   "id": "2d67b772-6ec7-4ce2-9728-e6c517a44c4f",
   "metadata": {},
   "source": [
    "#### Softmax\n",
    "\n",
    "- softmax 是 onehot(argmax) 的近似？\n",
    "- 向量里每个值减去最大值之后，最大值变为 1，其余值变为复数，再经过一个 exp，得到 softmax。\n"
   ]
  },
  {
   "cell_type": "code",
   "execution_count": 23,
   "id": "d9a21bd9-deea-4186-93d7-32172635ecd7",
   "metadata": {
    "tags": []
   },
   "outputs": [
    {
     "name": "stdout",
     "output_type": "stream",
     "text": [
      "ground truth: [2.29819079e-03 3.11026302e-04 6.24713027e-03 1.69814607e-02\n",
      " 9.27156339e-01 8.45457145e-04 4.61603960e-02]\n",
      "approx softmax: [2.29819079e-03 3.11026302e-04 6.24713027e-03 1.69814607e-02\n",
      " 9.27156339e-01 8.45457145e-04 4.61603960e-02]\n"
     ]
    }
   ],
   "source": [
    "x = np.array([3, 1, 4, 5, 9, 2, 6])\n",
    "\n",
    "def softmax(x):\n",
    "  return np.exp(x) / np.exp(x).sum()\n",
    "\n",
    "def softmax_approx(x, k=1):\n",
    "  return np.exp(x - maximum_approx(x, k=k))\n",
    "  \n",
    "print(f\"ground truth: {softmax(x)}\")\n",
    "print(f\"approx softmax: {softmax_approx(x)}\")"
   ]
  },
  {
   "cell_type": "markdown",
   "id": "0a2e3a4b-c470-4726-8dc7-89f50877a268",
   "metadata": {},
   "source": [
    "### Argmax"
   ]
  },
  {
   "cell_type": "code",
   "execution_count": 26,
   "id": "4ab9f11e-ec6a-4e3d-82ff-280fd3917bd7",
   "metadata": {
    "tags": []
   },
   "outputs": [
    {
     "name": "stdout",
     "output_type": "stream",
     "text": [
      "ground truth: 4\n",
      "approx: 4.053564685884353\n"
     ]
    }
   ],
   "source": [
    "x = np.array([3, 1, 4, 5, 9, 2, 6])\n",
    "\n",
    "def argmax(x):\n",
    "  return np.argmax(x)\n",
    "\n",
    "def argmax_approx(x):\n",
    "  return np.sum(np.arange(len(x)) * softmax_approx(x))\n",
    "\n",
    "print(f\"ground truth: {argmax(x)}\")\n",
    "print(f\"approx: {argmax_approx(x)}\")"
   ]
  },
  {
   "cell_type": "code",
   "execution_count": null,
   "id": "3f0063a7-52ef-45db-a523-52443395c685",
   "metadata": {},
   "outputs": [],
   "source": []
  }
 ],
 "metadata": {
  "kernelspec": {
   "display_name": "Python 3 (ipykernel)",
   "language": "python",
   "name": "python3"
  },
  "language_info": {
   "codemirror_mode": {
    "name": "ipython",
    "version": 3
   },
   "file_extension": ".py",
   "mimetype": "text/x-python",
   "name": "python",
   "nbconvert_exporter": "python",
   "pygments_lexer": "ipython3",
   "version": "3.11.0"
  }
 },
 "nbformat": 4,
 "nbformat_minor": 5
}
